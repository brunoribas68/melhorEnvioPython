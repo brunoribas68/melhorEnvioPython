{
 "cells": [
  {
   "cell_type": "markdown",
   "id": "8420bc04",
   "metadata": {},
   "source": [
    " # Teste Melhor Envio\n",
    " ### Requisitos\n",
    "###### Processar o arquivo de log, extrair informações e salvá-las no banco de dados.\n",
    "###### Gerar um relatório para cada descrição abaixo, em formato csv:\n",
    "###### Requisições por consumidor;\n",
    "###### Requisições por serviço;\n",
    "###### Tempo médio de request , proxy e gateway por serviço.\n",
    "###### Documentar passo a passo de como executar o teste através de um arquivo\n",
    "###### README.md .\n",
    "###### Efetue o commit de todos os passos do desenvolvimento em um git público de sua\n",
    "###### preferência e disponibilize apenas o link para o repositório."
   ]
  },
  {
   "cell_type": "code",
   "execution_count": 312,
   "id": "39191101",
   "metadata": {},
   "outputs": [
    {
     "ename": "NameError",
     "evalue": "name 'RelatorioConsumidor' is not defined",
     "output_type": "error",
     "traceback": [
      "\u001b[1;31m---------------------------------------------------------------------------\u001b[0m",
      "\u001b[1;31mNameError\u001b[0m                                 Traceback (most recent call last)",
      "Input \u001b[1;32mIn [312]\u001b[0m, in \u001b[0;36m<cell line: 31>\u001b[1;34m()\u001b[0m\n\u001b[0;32m     34\u001b[0m relatorio_por_consumidor \u001b[38;5;241m=\u001b[39m pd\u001b[38;5;241m.\u001b[39mDataFrame()\n\u001b[0;32m     35\u001b[0m new_data_frame \u001b[38;5;241m=\u001b[39m arrumaJson(data_frame)\n\u001b[1;32m---> 36\u001b[0m relatorio_por_consumidor \u001b[38;5;241m=\u001b[39m \u001b[43mRelatorioConsumidor\u001b[49m(new_data_frame)\n\u001b[0;32m     37\u001b[0m relatorio_por_servico \u001b[38;5;241m=\u001b[39m RelatorioServico(new_data_frame)\n\u001b[0;32m     38\u001b[0m relatorio_medias_consumidor \u001b[38;5;241m=\u001b[39m RelatorioMediaLatencia(new_data_frame)\n",
      "\u001b[1;31mNameError\u001b[0m: name 'RelatorioConsumidor' is not defined"
     ]
    }
   ],
   "source": [
    "import pandas as pd\n",
    "#import connection as conn\n",
    "\n",
    "\n",
    "def importLog():\n",
    "    data_frame = pd.read_json('logs.txt', lines=True)\n",
    "    return data_frame\n",
    "\n",
    "\n",
    "def arrumaJson(data_frame):\n",
    "    new_data_frame = {\n",
    "    'lantencies': pd.json_normalize(data_frame.latencies),\n",
    "    'request': pd.json_normalize(data_frame.request),\n",
    "    'response': pd.json_normalize(data_frame.response),\n",
    "    'authenticated_entity': pd.json_normalize(data_frame.authenticated_entity),\n",
    "    'route': pd.json_normalize(data_frame.route),\n",
    "    'service': pd.json_normalize(data_frame.service),\n",
    "    'client_ip': data_frame.client_ip,\n",
    "    'upstream_uri': data_frame.upstream_uri,\n",
    "    'started_at': data_frame.started_at\n",
    "    }\n",
    "\n",
    "    ## organizando o lantencia pois ele que usaremos para os relatorios\n",
    "    new_data_frame['lantencies']['service'] = new_data_frame['service'].id\n",
    "    new_data_frame['lantencies']['customer_id'] = new_data_frame['authenticated_entity']\n",
    "    new_data_frame['lantencies']['client_ip'] =  new_data_frame['client_ip']\n",
    "    new_data_frame['lantencies']['route'] =  new_data_frame['route'].id\n",
    "\n",
    "    return new_data_frame\n",
    "\n",
    "def RelatorioConsumidor(new_data_frame):\n",
    "    relatorio_por_consumidor = pd.DataFrame()\n",
    "    ## organizar por consumidor\n",
    "    relatorio_por_consumidor = new_data_frame['lantencies'].sort_values(by='customer_id')\n",
    "    relatorio_por_consumidor.to_csv('relatorio_por_consumidor.csv', sep=\";\")\n",
    "    return relatorio_por_consumidor\n",
    "    \n",
    "def RelatorioServico(new_data_frame):\n",
    "    relatorio_por_servico = pd.DataFrame()\n",
    "    ## organizar por serviço\n",
    "    relatorio_por_servico = new_data_frame['lantencies'].sort_values(['service'])\n",
    "    relatorio_por_consumidor.to_csv('relatorio_por_servico.csv', sep=\";\")\n",
    "    return relatorio_por_servico\n",
    "    \n",
    "def RelatorioMediaLatencia(new_data_frame):\n",
    "    relatorio_medias_consumidor = pd.DataFrame()\n",
    "    ## organizar pelo consumidor com as médias\n",
    "    relatorio_medias_consumidor = new_data_frame['lantencies'].groupby('customer_id').mean()\n",
    "    relatorio_por_consumidor.to_csv('relatorio_medias_consumidor.csv', sep=\";\")\n",
    "    return relatorio_medias_consumidor\n",
    "\n",
    "if __name__ == '__main__':\n",
    "    # connection = conn.Connection.create_server_connection()\n",
    "    data_frame = importLog()\n",
    "    new_data_frame = arrumaJson(data_frame)\n",
    "    relatorio_por_consumidor = RelatorioConsumidor(new_data_frame)\n",
    "    relatorio_por_servico = RelatorioServico(new_data_frame)\n",
    "    relatorio_medias_consumidor = RelatorioMediaLatencia(new_data_frame)\n",
    "\n",
    "    \n",
    "\n",
    "    \n",
    "\n"
   ]
  },
  {
   "cell_type": "code",
   "execution_count": 304,
   "id": "c288c90f",
   "metadata": {},
   "outputs": [
    {
     "data": {
      "text/plain": [
       "0        75.241.168.121\n",
       "1        88.248.178.118\n",
       "2         56.54.196.221\n",
       "3        164.83.216.199\n",
       "4         154.78.181.43\n",
       "              ...      \n",
       "99995     98.90.136.186\n",
       "99996      43.14.93.160\n",
       "99997      210.61.28.63\n",
       "99998     54.231.110.76\n",
       "99999      66.195.97.68\n",
       "Name: client_ip, Length: 100000, dtype: object"
      ]
     },
     "execution_count": 304,
     "metadata": {},
     "output_type": "execute_result"
    }
   ],
   "source": [
    "data_frame.client_ip"
   ]
  },
  {
   "cell_type": "code",
   "execution_count": null,
   "id": "e0b883cd",
   "metadata": {},
   "outputs": [],
   "source": []
  }
 ],
 "metadata": {
  "kernelspec": {
   "display_name": "Python 3 (ipykernel)",
   "language": "python",
   "name": "python3"
  },
  "language_info": {
   "codemirror_mode": {
    "name": "ipython",
    "version": 3
   },
   "file_extension": ".py",
   "mimetype": "text/x-python",
   "name": "python",
   "nbconvert_exporter": "python",
   "pygments_lexer": "ipython3",
   "version": "3.9.12"
  }
 },
 "nbformat": 4,
 "nbformat_minor": 5
}
